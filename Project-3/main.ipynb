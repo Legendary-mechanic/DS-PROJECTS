{
 "cells": [
  {
   "attachments": {},
   "cell_type": "markdown",
   "metadata": {},
   "source": [
    "# DIABETES PREDICTION AND ANALYSIS"
   ]
  },
  {
   "cell_type": "code",
   "execution_count": 1,
   "metadata": {},
   "outputs": [],
   "source": [
    "import pandas as pd\n",
    "import numpy as np\n",
    "import matplotlib.pyplot as plt\n",
    "import seaborn as sns\n",
    "%matplotlib inline"
   ]
  },
  {
   "attachments": {},
   "cell_type": "markdown",
   "metadata": {},
   "source": [
    "#### LOADING THE DATA INTO DATAFRAME FROM CSV"
   ]
  },
  {
   "cell_type": "code",
   "execution_count": 2,
   "metadata": {},
   "outputs": [
    {
     "data": {
      "text/html": [
       "<div>\n",
       "<style scoped>\n",
       "    .dataframe tbody tr th:only-of-type {\n",
       "        vertical-align: middle;\n",
       "    }\n",
       "\n",
       "    .dataframe tbody tr th {\n",
       "        vertical-align: top;\n",
       "    }\n",
       "\n",
       "    .dataframe thead th {\n",
       "        text-align: right;\n",
       "    }\n",
       "</style>\n",
       "<table border=\"1\" class=\"dataframe\">\n",
       "  <thead>\n",
       "    <tr style=\"text-align: right;\">\n",
       "      <th></th>\n",
       "      <th>gender</th>\n",
       "      <th>age</th>\n",
       "      <th>hypertension</th>\n",
       "      <th>heart_disease</th>\n",
       "      <th>smoking_history</th>\n",
       "      <th>bmi</th>\n",
       "      <th>HbA1c_level</th>\n",
       "      <th>blood_glucose_level</th>\n",
       "      <th>diabetes</th>\n",
       "    </tr>\n",
       "  </thead>\n",
       "  <tbody>\n",
       "    <tr>\n",
       "      <th>0</th>\n",
       "      <td>Female</td>\n",
       "      <td>80.0</td>\n",
       "      <td>0</td>\n",
       "      <td>1</td>\n",
       "      <td>never</td>\n",
       "      <td>25.19</td>\n",
       "      <td>6.6</td>\n",
       "      <td>140</td>\n",
       "      <td>0</td>\n",
       "    </tr>\n",
       "    <tr>\n",
       "      <th>1</th>\n",
       "      <td>Female</td>\n",
       "      <td>54.0</td>\n",
       "      <td>0</td>\n",
       "      <td>0</td>\n",
       "      <td>No Info</td>\n",
       "      <td>27.32</td>\n",
       "      <td>6.6</td>\n",
       "      <td>80</td>\n",
       "      <td>0</td>\n",
       "    </tr>\n",
       "    <tr>\n",
       "      <th>2</th>\n",
       "      <td>Male</td>\n",
       "      <td>28.0</td>\n",
       "      <td>0</td>\n",
       "      <td>0</td>\n",
       "      <td>never</td>\n",
       "      <td>27.32</td>\n",
       "      <td>5.7</td>\n",
       "      <td>158</td>\n",
       "      <td>0</td>\n",
       "    </tr>\n",
       "    <tr>\n",
       "      <th>3</th>\n",
       "      <td>Female</td>\n",
       "      <td>36.0</td>\n",
       "      <td>0</td>\n",
       "      <td>0</td>\n",
       "      <td>current</td>\n",
       "      <td>23.45</td>\n",
       "      <td>5.0</td>\n",
       "      <td>155</td>\n",
       "      <td>0</td>\n",
       "    </tr>\n",
       "    <tr>\n",
       "      <th>4</th>\n",
       "      <td>Male</td>\n",
       "      <td>76.0</td>\n",
       "      <td>1</td>\n",
       "      <td>1</td>\n",
       "      <td>current</td>\n",
       "      <td>20.14</td>\n",
       "      <td>4.8</td>\n",
       "      <td>155</td>\n",
       "      <td>0</td>\n",
       "    </tr>\n",
       "  </tbody>\n",
       "</table>\n",
       "</div>"
      ],
      "text/plain": [
       "   gender   age  hypertension  heart_disease smoking_history    bmi  \\\n",
       "0  Female  80.0             0              1           never  25.19   \n",
       "1  Female  54.0             0              0         No Info  27.32   \n",
       "2    Male  28.0             0              0           never  27.32   \n",
       "3  Female  36.0             0              0         current  23.45   \n",
       "4    Male  76.0             1              1         current  20.14   \n",
       "\n",
       "   HbA1c_level  blood_glucose_level  diabetes  \n",
       "0          6.6                  140         0  \n",
       "1          6.6                   80         0  \n",
       "2          5.7                  158         0  \n",
       "3          5.0                  155         0  \n",
       "4          4.8                  155         0  "
      ]
     },
     "execution_count": 2,
     "metadata": {},
     "output_type": "execute_result"
    }
   ],
   "source": [
    "df = pd.read_csv('diabetes_prediction_dataset.csv')\n",
    "df.head()"
   ]
  },
  {
   "cell_type": "code",
   "execution_count": 48,
   "metadata": {},
   "outputs": [
    {
     "data": {
      "text/plain": [
       "gender                 0\n",
       "age                    0\n",
       "hypertension           0\n",
       "heart_disease          0\n",
       "smoking_history        0\n",
       "bmi                    0\n",
       "HbA1c_level            0\n",
       "blood_glucose_level    0\n",
       "diabetes               0\n",
       "dtype: int64"
      ]
     },
     "execution_count": 48,
     "metadata": {},
     "output_type": "execute_result"
    }
   ],
   "source": [
    "# checking for na values\n",
    "df.isna().sum()"
   ]
  },
  {
   "cell_type": "code",
   "execution_count": 49,
   "metadata": {},
   "outputs": [
    {
     "data": {
      "text/plain": [
       "(100000, 9)"
      ]
     },
     "execution_count": 49,
     "metadata": {},
     "output_type": "execute_result"
    }
   ],
   "source": [
    "# checking the shape of the dataframe\n",
    "df.shape"
   ]
  },
  {
   "cell_type": "code",
   "execution_count": 21,
   "metadata": {},
   "outputs": [
    {
     "name": "stdout",
     "output_type": "stream",
     "text": [
      "<class 'pandas.core.frame.DataFrame'>\n",
      "RangeIndex: 100000 entries, 0 to 99999\n",
      "Data columns (total 9 columns):\n",
      " #   Column               Non-Null Count   Dtype  \n",
      "---  ------               --------------   -----  \n",
      " 0   gender               100000 non-null  object \n",
      " 1   age                  100000 non-null  float64\n",
      " 2   hypertension         100000 non-null  int64  \n",
      " 3   heart_disease        100000 non-null  int64  \n",
      " 4   smoking_history      100000 non-null  object \n",
      " 5   bmi                  100000 non-null  float64\n",
      " 6   HbA1c_level          100000 non-null  float64\n",
      " 7   blood_glucose_level  100000 non-null  int64  \n",
      " 8   diabetes             100000 non-null  int64  \n",
      "dtypes: float64(3), int64(4), object(2)\n",
      "memory usage: 6.9+ MB\n"
     ]
    }
   ],
   "source": [
    "df.info()"
   ]
  },
  {
   "attachments": {},
   "cell_type": "markdown",
   "metadata": {},
   "source": [
    "Two object dtype feature columns, gender and smoking history"
   ]
  },
  {
   "attachments": {},
   "cell_type": "markdown",
   "metadata": {},
   "source": [
    "# <b>EXPLORATORY DATA ANALYSIS</b>\n",
    "#### GENERAL EDA OBSERVATIONS USING DESCRIBE"
   ]
  },
  {
   "cell_type": "code",
   "execution_count": 22,
   "metadata": {},
   "outputs": [
    {
     "data": {
      "text/html": [
       "<div>\n",
       "<style scoped>\n",
       "    .dataframe tbody tr th:only-of-type {\n",
       "        vertical-align: middle;\n",
       "    }\n",
       "\n",
       "    .dataframe tbody tr th {\n",
       "        vertical-align: top;\n",
       "    }\n",
       "\n",
       "    .dataframe thead th {\n",
       "        text-align: right;\n",
       "    }\n",
       "</style>\n",
       "<table border=\"1\" class=\"dataframe\">\n",
       "  <thead>\n",
       "    <tr style=\"text-align: right;\">\n",
       "      <th></th>\n",
       "      <th>age</th>\n",
       "      <th>hypertension</th>\n",
       "      <th>heart_disease</th>\n",
       "      <th>bmi</th>\n",
       "      <th>HbA1c_level</th>\n",
       "      <th>blood_glucose_level</th>\n",
       "      <th>diabetes</th>\n",
       "    </tr>\n",
       "  </thead>\n",
       "  <tbody>\n",
       "    <tr>\n",
       "      <th>count</th>\n",
       "      <td>100000.000000</td>\n",
       "      <td>100000.00000</td>\n",
       "      <td>100000.000000</td>\n",
       "      <td>100000.000000</td>\n",
       "      <td>100000.000000</td>\n",
       "      <td>100000.000000</td>\n",
       "      <td>100000.000000</td>\n",
       "    </tr>\n",
       "    <tr>\n",
       "      <th>mean</th>\n",
       "      <td>41.885856</td>\n",
       "      <td>0.07485</td>\n",
       "      <td>0.039420</td>\n",
       "      <td>27.320767</td>\n",
       "      <td>5.527507</td>\n",
       "      <td>138.058060</td>\n",
       "      <td>0.085000</td>\n",
       "    </tr>\n",
       "    <tr>\n",
       "      <th>std</th>\n",
       "      <td>22.516840</td>\n",
       "      <td>0.26315</td>\n",
       "      <td>0.194593</td>\n",
       "      <td>6.636783</td>\n",
       "      <td>1.070672</td>\n",
       "      <td>40.708136</td>\n",
       "      <td>0.278883</td>\n",
       "    </tr>\n",
       "    <tr>\n",
       "      <th>min</th>\n",
       "      <td>0.080000</td>\n",
       "      <td>0.00000</td>\n",
       "      <td>0.000000</td>\n",
       "      <td>10.010000</td>\n",
       "      <td>3.500000</td>\n",
       "      <td>80.000000</td>\n",
       "      <td>0.000000</td>\n",
       "    </tr>\n",
       "    <tr>\n",
       "      <th>25%</th>\n",
       "      <td>24.000000</td>\n",
       "      <td>0.00000</td>\n",
       "      <td>0.000000</td>\n",
       "      <td>23.630000</td>\n",
       "      <td>4.800000</td>\n",
       "      <td>100.000000</td>\n",
       "      <td>0.000000</td>\n",
       "    </tr>\n",
       "    <tr>\n",
       "      <th>50%</th>\n",
       "      <td>43.000000</td>\n",
       "      <td>0.00000</td>\n",
       "      <td>0.000000</td>\n",
       "      <td>27.320000</td>\n",
       "      <td>5.800000</td>\n",
       "      <td>140.000000</td>\n",
       "      <td>0.000000</td>\n",
       "    </tr>\n",
       "    <tr>\n",
       "      <th>75%</th>\n",
       "      <td>60.000000</td>\n",
       "      <td>0.00000</td>\n",
       "      <td>0.000000</td>\n",
       "      <td>29.580000</td>\n",
       "      <td>6.200000</td>\n",
       "      <td>159.000000</td>\n",
       "      <td>0.000000</td>\n",
       "    </tr>\n",
       "    <tr>\n",
       "      <th>max</th>\n",
       "      <td>80.000000</td>\n",
       "      <td>1.00000</td>\n",
       "      <td>1.000000</td>\n",
       "      <td>95.690000</td>\n",
       "      <td>9.000000</td>\n",
       "      <td>300.000000</td>\n",
       "      <td>1.000000</td>\n",
       "    </tr>\n",
       "  </tbody>\n",
       "</table>\n",
       "</div>"
      ],
      "text/plain": [
       "                 age  hypertension  heart_disease            bmi  \\\n",
       "count  100000.000000  100000.00000  100000.000000  100000.000000   \n",
       "mean       41.885856       0.07485       0.039420      27.320767   \n",
       "std        22.516840       0.26315       0.194593       6.636783   \n",
       "min         0.080000       0.00000       0.000000      10.010000   \n",
       "25%        24.000000       0.00000       0.000000      23.630000   \n",
       "50%        43.000000       0.00000       0.000000      27.320000   \n",
       "75%        60.000000       0.00000       0.000000      29.580000   \n",
       "max        80.000000       1.00000       1.000000      95.690000   \n",
       "\n",
       "         HbA1c_level  blood_glucose_level       diabetes  \n",
       "count  100000.000000        100000.000000  100000.000000  \n",
       "mean        5.527507           138.058060       0.085000  \n",
       "std         1.070672            40.708136       0.278883  \n",
       "min         3.500000            80.000000       0.000000  \n",
       "25%         4.800000           100.000000       0.000000  \n",
       "50%         5.800000           140.000000       0.000000  \n",
       "75%         6.200000           159.000000       0.000000  \n",
       "max         9.000000           300.000000       1.000000  "
      ]
     },
     "execution_count": 22,
     "metadata": {},
     "output_type": "execute_result"
    }
   ],
   "source": [
    "df.describe()"
   ]
  },
  {
   "attachments": {},
   "cell_type": "markdown",
   "metadata": {},
   "source": [
    "#### INFERENCE\n",
    "* Highest blood glucose level is 300 and lowest is 80 and the average is 138\n",
    "* Maximum age amongst the patients is 80 while lowest is 0.08 which is approx age of 1 month, meaning this dataset contains data from<br>\n",
    "a wide variety of age groups\n",
    "* Highest HbA1c level is 9 while lowest is 3.5 with an average of 5.52\n",
    "* Highest bmi is 95.6 while lowest is 10.01 with an average of 27.3"
   ]
  },
  {
   "attachments": {},
   "cell_type": "markdown",
   "metadata": {},
   "source": [
    "# <b>GRAPHICAL EDA QUESTIONS</b>"
   ]
  },
  {
   "attachments": {},
   "cell_type": "markdown",
   "metadata": {},
   "source": [
    "#### <i> 1. Is there any relationship between blood glucose and diabetes ? If so, visualize using a graph </i>"
   ]
  },
  {
   "cell_type": "code",
   "execution_count": 39,
   "metadata": {},
   "outputs": [
    {
     "data": {
      "image/png": "[encoded data removed]",
      "text/plain": [
       "<Figure size 800x500 with 1 Axes>"
      ]
     },
     "metadata": {},
     "output_type": "display_data"
    }
   ],
   "source": [
    "plt.figure(figsize=(8,5))\n",
    "sns.countplot(y = 'blood_glucose_level', data = df, hue='diabetes')\n",
    "plt.show()"
   ]
  },
  {
   "attachments": {},
   "cell_type": "markdown",
   "metadata": {},
   "source": [
    "#### INFERENCE\n",
    "* Most patients have blood glucose level less than or equal to 200\n",
    "* Every patient with a glucose level higher than 200 is diabetic\n",
    "* Diabetes can also occur in patients who have close to normal blood sugar levels in 130's"
   ]
  },
  {
   "attachments": {},
   "cell_type": "markdown",
   "metadata": {},
   "source": [
    "#### <i> 2. Is there any relationship between blood glucose and HbA1c level ? If so, visualize using a graph </i>"
   ]
  },
  {
   "cell_type": "code",
   "execution_count": 59,
   "metadata": {},
   "outputs": [
    {
     "data": {
      "image/png": "[encoded data removed]",
      "text/plain": [
       "<Figure size 800x500 with 1 Axes>"
      ]
     },
     "metadata": {},
     "output_type": "display_data"
    }
   ],
   "source": [
    "plt.figure(figsize=(8,5))\n",
    "sns.scatterplot(x = 'blood_glucose_level', y = 'HbA1c_level', data = df, hue='diabetes', palette='rocket')\n",
    "plt.show()"
   ]
  },
  {
   "attachments": {},
   "cell_type": "markdown",
   "metadata": {},
   "source": [
    "#### INFERENCE\n",
    "* Non diabetic patients have blood sugar level <= 200 and hba1c levels <=6.8\n",
    "* Patients who have hba1c level >=6 despite having low blood sugar levels are at risk of having diabetes\n",
    "* All patients having blood glucose level > 200 are diabetic and having hba1c levels higher than 6."
   ]
  },
  {
   "attachments": {},
   "cell_type": "markdown",
   "metadata": {},
   "source": [
    "#### <i> 3. What is the rate of diabetes in patients by gender ? Visualize using a chart </i>"
   ]
  },
  {
   "cell_type": "code",
   "execution_count": 14,
   "metadata": {},
   "outputs": [
    {
     "data": {
      "image/png": "[encoded data removed]",
      "text/plain": [
       "<Figure size 600x400 with 1 Axes>"
      ]
     },
     "metadata": {},
     "output_type": "display_data"
    }
   ],
   "source": [
    "plt.figure(figsize=(6,4))\n",
    "sns.countplot(x = df['gender'], hue = df['diabetes'], palette='bright')\n",
    "plt.title('Diabetes by Gender')\n",
    "plt.xlabel('Gender')\n",
    "plt.ylabel('Count')\n",
    "plt.show()"
   ]
  },
  {
   "attachments": {},
   "cell_type": "markdown",
   "metadata": {},
   "source": [
    "#### INFERENCE\n",
    "* If we take percentage, males are at higher risk of diabetes than females\n",
    "* Other genders are very small in number so nothing concrete can be said on their situtation"
   ]
  },
  {
   "attachments": {},
   "cell_type": "markdown",
   "metadata": {},
   "source": [
    "#### <i> 4. What is the rate of diabetes in patients by smoking history ? Visualize using a chart </i>"
   ]
  },
  {
   "cell_type": "code",
   "execution_count": 57,
   "metadata": {},
   "outputs": [
    {
     "data": {
      "image/png": "[encoded data removed]",
      "text/plain": [
       "<Figure size 600x400 with 1 Axes>"
      ]
     },
     "metadata": {},
     "output_type": "display_data"
    }
   ],
   "source": [
    "plt.figure(figsize=(6,4))\n",
    "sns.countplot(x = df['smoking_history'], hue = df['diabetes'], palette='Set2')\n",
    "plt.title('Diabetes by Smoking History')\n",
    "plt.xlabel('Smoking History')\n",
    "plt.ylabel('Count')\n",
    "plt.show()"
   ]
  },
  {
   "cell_type": "code",
   "execution_count": 20,
   "metadata": {},
   "outputs": [
    {
     "data": {
      "text/plain": [
       "No Info         4.059638\n",
       "never           9.534122\n",
       "current        10.208917\n",
       "not current    10.702652\n",
       "ever           11.788212\n",
       "former         17.001711\n",
       "Name: smoking_history, dtype: float64"
      ]
     },
     "execution_count": 20,
     "metadata": {},
     "output_type": "execute_result"
    }
   ],
   "source": [
    "x=((df['smoking_history'][df['diabetes'] == 1].value_counts())*100)/(df['smoking_history'].value_counts())\n",
    "x.sort_values()"
   ]
  },
  {
   "attachments": {},
   "cell_type": "markdown",
   "metadata": {},
   "source": [
    "#### INFERENCE\n",
    "* Although it seems from the chart that people who have never smoked have highest chance of diabetes but if we go by the percentage, any person who has been currently smoking or has had a history of smoking have higher chance of getting diabetes."
   ]
  },
  {
   "attachments": {},
   "cell_type": "markdown",
   "metadata": {},
   "source": [
    "#### <i> 5. What is the rate of diabetes in patients by age ? Visualize using a chart </i>"
   ]
  },
  {
   "cell_type": "code",
   "execution_count": 54,
   "metadata": {},
   "outputs": [
    {
     "data": {
      "image/png": "[encoded data removed]",
      "text/plain": [
       "<Figure size 600x400 with 1 Axes>"
      ]
     },
     "metadata": {},
     "output_type": "display_data"
    }
   ],
   "source": [
    "plt.figure(figsize=(6,4))\n",
    "sns.kdeplot(x = df['age'], hue=df['diabetes'], bw_adjust=.4, multiple=\"stack\", cut=0, palette='Set1')\n",
    "plt.title('Diabetes by Age')\n",
    "plt.xlabel('Age')\n",
    "plt.ylabel('Density')\n",
    "plt.show()"
   ]
  },
  {
   "attachments": {},
   "cell_type": "markdown",
   "metadata": {},
   "source": [
    "#### INFERENCE\n",
    "* From the density plot, it seems that Diabetes can occur in any age but by their 40's, a person has the highest chance of developing it.\n",
    "* It is much more common at older age than at a younger age"
   ]
  },
  {
   "attachments": {},
   "cell_type": "markdown",
   "metadata": {},
   "source": [
    "#### <i> 6. What is the ratio of diabetes in among all patients ? Visualize using a chart </i>"
   ]
  },
  {
   "cell_type": "code",
   "execution_count": 52,
   "metadata": {},
   "outputs": [
    {
     "data": {
      "image/png": "[encoded data removed]",
      "text/plain": [
       "<Figure size 600x400 with 1 Axes>"
      ]
     },
     "metadata": {},
     "output_type": "display_data"
    }
   ],
   "source": [
    "plt.figure(figsize=(6,4))\n",
    "plt.pie(x = df['diabetes'].value_counts().values, labels=['NON-DIABETIC','DIABETIC'], autopct='%1.1f%%')\n",
    "plt.title('Diabetes')\n",
    "plt.show()"
   ]
  },
  {
   "attachments": {},
   "cell_type": "markdown",
   "metadata": {},
   "source": [
    "#### INFERENCE\n",
    "* Out of 100K patients, 8.5% or around 8,500 of them are diabetic"
   ]
  },
  {
   "attachments": {},
   "cell_type": "markdown",
   "metadata": {},
   "source": [
    "#### <i> 7. What is the correlation between all the feature columns of the diabetes dataset ? Visualize in one chart </i>"
   ]
  },
  {
   "cell_type": "code",
   "execution_count": 47,
   "metadata": {},
   "outputs": [
    {
     "data": {
      "image/png": "[encoded data removed]",
      "text/plain": [
       "<Figure size 600x400 with 2 Axes>"
      ]
     },
     "metadata": {},
     "output_type": "display_data"
    }
   ],
   "source": [
    "plt.figure(figsize=(6,4))\n",
    "sns.heatmap(df.corr(numeric_only=True), linewidth = 0.5, linecolor='black')\n",
    "plt.title(\"HEATMAP\")\n",
    "plt.show()"
   ]
  },
  {
   "attachments": {},
   "cell_type": "markdown",
   "metadata": {},
   "source": [
    "### <b> END OF EDA</b>\n",
    "# <b>BEGINNING WITH ML MODEL FOR CHURN PREDICTION</b>\n",
    "### 1. DATA PREPOCESSING\n",
    "\n",
    "* It will include cleaning(if na present) of data as we are only only sklearn, not tensorflow which can  deal with na values automatically\n",
    "* Converting categorical columns to numerical columns\n",
    "* Dropping useless columns\n",
    "* Selecting feature columns for ML model\n",
    "* Scaling the data \n",
    "* Splitting data into train and test datasets\n",
    "* Oversampling the training data so that the model sees equal diabetes and non-diabetes patients while training"
   ]
  },
  {
   "cell_type": "code",
   "execution_count": 3,
   "metadata": {},
   "outputs": [],
   "source": [
    "df['smoking_history'].replace(['never', 'No Info', 'current', 'former', 'ever', 'not current'],[-1,0,4,3,1,2],inplace=True)\n",
    "df['gender'] = (df['gender'] == 'Male').astype(int)"
   ]
  },
  {
   "cell_type": "code",
   "execution_count": 4,
   "metadata": {},
   "outputs": [],
   "source": [
    "# importing necessary libraries\n",
    "# here we use only classifier models as we need either 1 or 0 in output and not predict a random number\n",
    "from sklearn.ensemble import RandomForestClassifier\n",
    "from sklearn.neighbors import KNeighborsClassifier\n",
    "from sklearn.svm import SVC\n",
    "from sklearn.tree import DecisionTreeClassifier\n",
    "from sklearn.naive_bayes import GaussianNB\n",
    "from sklearn.linear_model import LogisticRegression\n",
    "from sklearn.metrics import accuracy_score, precision_score, recall_score, f1_score\n",
    "from sklearn.model_selection import train_test_split\n",
    "from sklearn.preprocessing import StandardScaler\n",
    "from imblearn.over_sampling import RandomOverSampler\n",
    "from sklearn.pipeline import Pipeline\n",
    "from sklearn.model_selection import GridSearchCV\n",
    "import sklearn"
   ]
  },
  {
   "cell_type": "code",
   "execution_count": 5,
   "metadata": {},
   "outputs": [
    {
     "data": {
      "text/plain": [
       "0    64033\n",
       "1    64033\n",
       "Name: diabetes, dtype: int64"
      ]
     },
     "execution_count": 5,
     "metadata": {},
     "output_type": "execute_result"
    }
   ],
   "source": [
    "features = df.columns[0:8]\n",
    "X = df[features]\n",
    "y = df['diabetes']\n",
    "\n",
    "scaler = StandardScaler()\n",
    "X = scaler.fit_transform(X)\n",
    "\n",
    "X_train, X_test, y_train, y_test = train_test_split(X,y, test_size=0.3)\n",
    "\n",
    "ros = RandomOverSampler()\n",
    "X_train,y_train = ros.fit_resample(X_train, y_train)\n",
    "\n",
    "y_train.value_counts()"
   ]
  },
  {
   "attachments": {},
   "cell_type": "markdown",
   "metadata": {},
   "source": [
    "### 2. CREATING DATA PIPELINES FOR DIFFERENT MODELS\n",
    "\n",
    "#### STEPS:"
   ]
  },
  {
   "attachments": {},
   "cell_type": "markdown",
   "metadata": {},
   "source": [
    "* Initialising a data pipeline\n",
    "* Creating a list of scoring methods"
   ]
  },
  {
   "cell_type": "code",
   "execution_count": 6,
   "metadata": {},
   "outputs": [],
   "source": [
    "pipe = Pipeline([\n",
    "    ('model', None)\n",
    "])\n",
    "score = ['accuracy','precision','recall','f1']"
   ]
  },
  {
   "attachments": {},
   "cell_type": "markdown",
   "metadata": {},
   "source": [
    "* Creating parameter grids for all models that are going to be used\n",
    "* Initialising GRIDSEARCHCV with pipeline, parameter grid, scoring methods\n",
    "* Fitting the grid on training data\n",
    "* Finding the best model and parameters"
   ]
  },
  {
   "attachments": {},
   "cell_type": "markdown",
   "metadata": {},
   "source": [
    "#### Reader Warning\n",
    "* The Model training and tuning the hyperparameters takes a lot of time, so that process is not depicted here.\n",
    "* Instead, the best hyperparameters are selected through training and then re-fed in to gridsearchcv to further increase accuracy.\n",
    "* But still, if anyone has the time, he can go through all this again, but remember, we have close to 120k rows after oversampling."
   ]
  },
  {
   "attachments": {},
   "cell_type": "markdown",
   "metadata": {},
   "source": [
    "### K-NEAREST NEIGHBORS"
   ]
  },
  {
   "cell_type": "code",
   "execution_count": null,
   "metadata": {},
   "outputs": [],
   "source": [
    "param_grid_knn = [{\n",
    "    'model': [KNeighborsClassifier()],\n",
    "    'model__n_neighbors': [9],\n",
    "    'model__weights': ['uniform'],\n",
    "    'model__algorithm' : ['ball_tree'],\n",
    "    'model__leaf_size' : [30]\n",
    "}]\n",
    "\n",
    "grid_search_knn = GridSearchCV(pipe, param_grid_knn, scoring = score, cv=20, verbose= 2, refit='accuracy', n_jobs=-1)\n",
    "grid_search_knn.fit(X_train,y_train)"
   ]
  },
  {
   "cell_type": "code",
   "execution_count": 34,
   "metadata": {},
   "outputs": [
    {
     "name": "stdout",
     "output_type": "stream",
     "text": [
      "Best Parameters: {'model': KNeighborsClassifier(algorithm='ball_tree', n_neighbors=9), 'model__algorithm': 'ball_tree', 'model__leaf_size': 30, 'model__n_neighbors': 9, 'model__weights': 'uniform'}\n",
      "Best Score: 0.9468261834732958\n"
     ]
    },
    {
     "data": {
      "text/html": [
       "<div>\n",
       "<style scoped>\n",
       "    .dataframe tbody tr th:only-of-type {\n",
       "        vertical-align: middle;\n",
       "    }\n",
       "\n",
       "    .dataframe tbody tr th {\n",
       "        vertical-align: top;\n",
       "    }\n",
       "\n",
       "    .dataframe thead th {\n",
       "        text-align: right;\n",
       "    }\n",
       "</style>\n",
       "<table border=\"1\" class=\"dataframe\">\n",
       "  <thead>\n",
       "    <tr style=\"text-align: right;\">\n",
       "      <th></th>\n",
       "      <th>mean_fit_time</th>\n",
       "      <th>std_fit_time</th>\n",
       "      <th>mean_score_time</th>\n",
       "      <th>std_score_time</th>\n",
       "      <th>param_model</th>\n",
       "      <th>param_model__algorithm</th>\n",
       "      <th>param_model__leaf_size</th>\n",
       "      <th>param_model__n_neighbors</th>\n",
       "      <th>param_model__weights</th>\n",
       "      <th>params</th>\n",
       "      <th>...</th>\n",
       "      <th>split13_test_f1</th>\n",
       "      <th>split14_test_f1</th>\n",
       "      <th>split15_test_f1</th>\n",
       "      <th>split16_test_f1</th>\n",
       "      <th>split17_test_f1</th>\n",
       "      <th>split18_test_f1</th>\n",
       "      <th>split19_test_f1</th>\n",
       "      <th>mean_test_f1</th>\n",
       "      <th>std_test_f1</th>\n",
       "      <th>rank_test_f1</th>\n",
       "    </tr>\n",
       "  </thead>\n",
       "  <tbody>\n",
       "    <tr>\n",
       "      <th>0</th>\n",
       "      <td>1.104151</td>\n",
       "      <td>0.239349</td>\n",
       "      <td>39.654516</td>\n",
       "      <td>4.547751</td>\n",
       "      <td>KNeighborsClassifier(algorithm='ball_tree', n_...</td>\n",
       "      <td>ball_tree</td>\n",
       "      <td>30</td>\n",
       "      <td>9</td>\n",
       "      <td>uniform</td>\n",
       "      <td>{'model': KNeighborsClassifier(algorithm='ball...</td>\n",
       "      <td>...</td>\n",
       "      <td>0.998044</td>\n",
       "      <td>0.997809</td>\n",
       "      <td>0.997573</td>\n",
       "      <td>0.997652</td>\n",
       "      <td>0.998201</td>\n",
       "      <td>0.998514</td>\n",
       "      <td>0.997966</td>\n",
       "      <td>0.809611</td>\n",
       "      <td>0.172614</td>\n",
       "      <td>1</td>\n",
       "    </tr>\n",
       "  </tbody>\n",
       "</table>\n",
       "<p>1 rows × 102 columns</p>\n",
       "</div>"
      ],
      "text/plain": [
       "   mean_fit_time  std_fit_time  mean_score_time  std_score_time  \\\n",
       "0       1.104151      0.239349        39.654516        4.547751   \n",
       "\n",
       "                                         param_model param_model__algorithm  \\\n",
       "0  KNeighborsClassifier(algorithm='ball_tree', n_...              ball_tree   \n",
       "\n",
       "  param_model__leaf_size param_model__n_neighbors param_model__weights  \\\n",
       "0                     30                        9              uniform   \n",
       "\n",
       "                                              params  ...  split13_test_f1  \\\n",
       "0  {'model': KNeighborsClassifier(algorithm='ball...  ...         0.998044   \n",
       "\n",
       "   split14_test_f1  split15_test_f1  split16_test_f1  split17_test_f1  \\\n",
       "0         0.997809         0.997573         0.997652         0.998201   \n",
       "\n",
       "   split18_test_f1  split19_test_f1  mean_test_f1  std_test_f1  rank_test_f1  \n",
       "0         0.998514         0.997966      0.809611     0.172614             1  \n",
       "\n",
       "[1 rows x 102 columns]"
      ]
     },
     "execution_count": 34,
     "metadata": {},
     "output_type": "execute_result"
    }
   ],
   "source": [
    "print(\"Best Parameters:\", grid_search_knn.best_params_)\n",
    "\n",
    "# Print the best score found during grid search\n",
    "print(\"Best Score:\", grid_search_knn.best_score_)\n",
    "\n",
    "pd.DataFrame(grid_search_knn.cv_results_).head()"
   ]
  },
  {
   "attachments": {},
   "cell_type": "markdown",
   "metadata": {},
   "source": [
    "### LOGISTIC REGRESSION"
   ]
  },
  {
   "cell_type": "code",
   "execution_count": null,
   "metadata": {},
   "outputs": [],
   "source": [
    "param_grid_lr = [{\n",
    "    'model': [LogisticRegression()],\n",
    "    'model__penalty': ['l2'],\n",
    "    'model__C': [5.0],\n",
    "    'model__solver': ['saga'],\n",
    "    'model__max_iter': [150]\n",
    "}]\n",
    "\n",
    "grid_search_lr = GridSearchCV(pipe, param_grid_lr, scoring = score, cv=20, verbose= 2, refit='accuracy', n_jobs=-1)\n",
    "grid_search_lr.fit(X_train,y_train)"
   ]
  },
  {
   "cell_type": "code",
   "execution_count": 29,
   "metadata": {},
   "outputs": [
    {
     "name": "stdout",
     "output_type": "stream",
     "text": [
      "Best Parameters: {'model': LogisticRegression(C=5.0, max_iter=150, solver='saga'), 'model__C': 5.0, 'model__max_iter': 150, 'model__penalty': 'l2', 'model__solver': 'saga'}\n",
      "Best Score: 0.875267122307499\n"
     ]
    },
    {
     "data": {
      "text/html": [
       "<div>\n",
       "<style scoped>\n",
       "    .dataframe tbody tr th:only-of-type {\n",
       "        vertical-align: middle;\n",
       "    }\n",
       "\n",
       "    .dataframe tbody tr th {\n",
       "        vertical-align: top;\n",
       "    }\n",
       "\n",
       "    .dataframe thead th {\n",
       "        text-align: right;\n",
       "    }\n",
       "</style>\n",
       "<table border=\"1\" class=\"dataframe\">\n",
       "  <thead>\n",
       "    <tr style=\"text-align: right;\">\n",
       "      <th></th>\n",
       "      <th>mean_fit_time</th>\n",
       "      <th>std_fit_time</th>\n",
       "      <th>mean_score_time</th>\n",
       "      <th>std_score_time</th>\n",
       "      <th>param_model</th>\n",
       "      <th>param_model__C</th>\n",
       "      <th>param_model__max_iter</th>\n",
       "      <th>param_model__penalty</th>\n",
       "      <th>param_model__solver</th>\n",
       "      <th>params</th>\n",
       "      <th>...</th>\n",
       "      <th>split13_test_f1</th>\n",
       "      <th>split14_test_f1</th>\n",
       "      <th>split15_test_f1</th>\n",
       "      <th>split16_test_f1</th>\n",
       "      <th>split17_test_f1</th>\n",
       "      <th>split18_test_f1</th>\n",
       "      <th>split19_test_f1</th>\n",
       "      <th>mean_test_f1</th>\n",
       "      <th>std_test_f1</th>\n",
       "      <th>rank_test_f1</th>\n",
       "    </tr>\n",
       "  </thead>\n",
       "  <tbody>\n",
       "    <tr>\n",
       "      <th>0</th>\n",
       "      <td>2.031526</td>\n",
       "      <td>0.467255</td>\n",
       "      <td>0.03349</td>\n",
       "      <td>0.02379</td>\n",
       "      <td>LogisticRegression(C=5.0, max_iter=150, solver...</td>\n",
       "      <td>5.0</td>\n",
       "      <td>150</td>\n",
       "      <td>l2</td>\n",
       "      <td>saga</td>\n",
       "      <td>{'model': LogisticRegression(C=5.0, max_iter=1...</td>\n",
       "      <td>...</td>\n",
       "      <td>0.930248</td>\n",
       "      <td>0.928816</td>\n",
       "      <td>0.927021</td>\n",
       "      <td>0.92792</td>\n",
       "      <td>0.928906</td>\n",
       "      <td>0.929622</td>\n",
       "      <td>0.935406</td>\n",
       "      <td>0.733204</td>\n",
       "      <td>0.179827</td>\n",
       "      <td>1</td>\n",
       "    </tr>\n",
       "  </tbody>\n",
       "</table>\n",
       "<p>1 rows × 102 columns</p>\n",
       "</div>"
      ],
      "text/plain": [
       "   mean_fit_time  std_fit_time  mean_score_time  std_score_time  \\\n",
       "0       2.031526      0.467255          0.03349         0.02379   \n",
       "\n",
       "                                         param_model param_model__C  \\\n",
       "0  LogisticRegression(C=5.0, max_iter=150, solver...            5.0   \n",
       "\n",
       "  param_model__max_iter param_model__penalty param_model__solver  \\\n",
       "0                   150                   l2                saga   \n",
       "\n",
       "                                              params  ...  split13_test_f1  \\\n",
       "0  {'model': LogisticRegression(C=5.0, max_iter=1...  ...         0.930248   \n",
       "\n",
       "   split14_test_f1  split15_test_f1  split16_test_f1  split17_test_f1  \\\n",
       "0         0.928816         0.927021          0.92792         0.928906   \n",
       "\n",
       "   split18_test_f1  split19_test_f1  mean_test_f1  std_test_f1  rank_test_f1  \n",
       "0         0.929622         0.935406      0.733204     0.179827             1  \n",
       "\n",
       "[1 rows x 102 columns]"
      ]
     },
     "execution_count": 29,
     "metadata": {},
     "output_type": "execute_result"
    }
   ],
   "source": [
    "print(\"Best Parameters:\", grid_search_lr.best_params_)\n",
    "\n",
    "# Print the best score found during grid search\n",
    "print(\"Best Score:\", grid_search_lr.best_score_)\n",
    "\n",
    "pd.DataFrame(grid_search_lr.cv_results_).head()"
   ]
  },
  {
   "attachments": {},
   "cell_type": "markdown",
   "metadata": {},
   "source": [
    "### RANDOM FOREST CLASSIFIER"
   ]
  },
  {
   "cell_type": "code",
   "execution_count": null,
   "metadata": {},
   "outputs": [],
   "source": [
    "param_grid_rf = [{\n",
    "    'model': [RandomForestClassifier()],\n",
    "    'model__n_estimators': [150],\n",
    "    'model__criterion': ['gini'],\n",
    "    'model__max_depth': [None],\n",
    "    'model__min_samples_split': [2],\n",
    "    'model__min_samples_leaf': [1],\n",
    "    'model__max_features': ['sqrt'],\n",
    "    'model__random_state': [1]\n",
    "}]\n",
    "\n",
    "grid_search_rf = GridSearchCV(pipe, param_grid_rf, scoring = score, cv=20, verbose= 2, refit='accuracy', n_jobs=-1)\n",
    "grid_search_rf.fit(X_train,y_train)"
   ]
  },
  {
   "cell_type": "code",
   "execution_count": 27,
   "metadata": {},
   "outputs": [
    {
     "name": "stdout",
     "output_type": "stream",
     "text": [
      "Best Parameters: {'model': RandomForestClassifier(n_estimators=150, random_state=1), 'model__criterion': 'gini', 'model__max_depth': None, 'model__max_features': 'sqrt', 'model__min_samples_leaf': 1, 'model__min_samples_split': 2, 'model__n_estimators': 150, 'model__random_state': 1}\n",
      "Best Score: 0.9935270219017223\n"
     ]
    },
    {
     "data": {
      "text/html": [
       "<div>\n",
       "<style scoped>\n",
       "    .dataframe tbody tr th:only-of-type {\n",
       "        vertical-align: middle;\n",
       "    }\n",
       "\n",
       "    .dataframe tbody tr th {\n",
       "        vertical-align: top;\n",
       "    }\n",
       "\n",
       "    .dataframe thead th {\n",
       "        text-align: right;\n",
       "    }\n",
       "</style>\n",
       "<table border=\"1\" class=\"dataframe\">\n",
       "  <thead>\n",
       "    <tr style=\"text-align: right;\">\n",
       "      <th></th>\n",
       "      <th>mean_fit_time</th>\n",
       "      <th>std_fit_time</th>\n",
       "      <th>mean_score_time</th>\n",
       "      <th>std_score_time</th>\n",
       "      <th>param_model</th>\n",
       "      <th>param_model__criterion</th>\n",
       "      <th>param_model__max_depth</th>\n",
       "      <th>param_model__max_features</th>\n",
       "      <th>param_model__min_samples_leaf</th>\n",
       "      <th>param_model__min_samples_split</th>\n",
       "      <th>...</th>\n",
       "      <th>split13_test_f1</th>\n",
       "      <th>split14_test_f1</th>\n",
       "      <th>split15_test_f1</th>\n",
       "      <th>split16_test_f1</th>\n",
       "      <th>split17_test_f1</th>\n",
       "      <th>split18_test_f1</th>\n",
       "      <th>split19_test_f1</th>\n",
       "      <th>mean_test_f1</th>\n",
       "      <th>std_test_f1</th>\n",
       "      <th>rank_test_f1</th>\n",
       "    </tr>\n",
       "  </thead>\n",
       "  <tbody>\n",
       "    <tr>\n",
       "      <th>0</th>\n",
       "      <td>71.118481</td>\n",
       "      <td>15.66956</td>\n",
       "      <td>0.569397</td>\n",
       "      <td>0.177161</td>\n",
       "      <td>RandomForestClassifier(n_estimators=150, rando...</td>\n",
       "      <td>gini</td>\n",
       "      <td>None</td>\n",
       "      <td>sqrt</td>\n",
       "      <td>1</td>\n",
       "      <td>2</td>\n",
       "      <td>...</td>\n",
       "      <td>1.0</td>\n",
       "      <td>1.0</td>\n",
       "      <td>1.0</td>\n",
       "      <td>1.0</td>\n",
       "      <td>1.0</td>\n",
       "      <td>1.0</td>\n",
       "      <td>1.0</td>\n",
       "      <td>0.965704</td>\n",
       "      <td>0.032052</td>\n",
       "      <td>1</td>\n",
       "    </tr>\n",
       "  </tbody>\n",
       "</table>\n",
       "<p>1 rows × 105 columns</p>\n",
       "</div>"
      ],
      "text/plain": [
       "   mean_fit_time  std_fit_time  mean_score_time  std_score_time  \\\n",
       "0      71.118481      15.66956         0.569397        0.177161   \n",
       "\n",
       "                                         param_model param_model__criterion  \\\n",
       "0  RandomForestClassifier(n_estimators=150, rando...                   gini   \n",
       "\n",
       "  param_model__max_depth param_model__max_features  \\\n",
       "0                   None                      sqrt   \n",
       "\n",
       "  param_model__min_samples_leaf param_model__min_samples_split  ...  \\\n",
       "0                             1                              2  ...   \n",
       "\n",
       "  split13_test_f1 split14_test_f1 split15_test_f1  split16_test_f1  \\\n",
       "0             1.0             1.0             1.0              1.0   \n",
       "\n",
       "   split17_test_f1  split18_test_f1  split19_test_f1  mean_test_f1  \\\n",
       "0              1.0              1.0              1.0      0.965704   \n",
       "\n",
       "   std_test_f1  rank_test_f1  \n",
       "0     0.032052             1  \n",
       "\n",
       "[1 rows x 105 columns]"
      ]
     },
     "execution_count": 27,
     "metadata": {},
     "output_type": "execute_result"
    }
   ],
   "source": [
    "print(\"Best Parameters:\", grid_search_rf.best_params_)\n",
    "\n",
    "# Print the best score found during grid search\n",
    "print(\"Best Score:\", grid_search_rf.best_score_)\n",
    "\n",
    "pd.DataFrame(grid_search_rf.cv_results_).head()"
   ]
  },
  {
   "attachments": {},
   "cell_type": "markdown",
   "metadata": {},
   "source": [
    "### DECISION TREE CLASSIFIER"
   ]
  },
  {
   "cell_type": "code",
   "execution_count": null,
   "metadata": {},
   "outputs": [],
   "source": [
    "param_grid_dt = [{\n",
    "    'model': [DecisionTreeClassifier()],\n",
    "    'model__max_depth': [None],\n",
    "    'model__min_samples_split': [2],\n",
    "    'model__min_samples_leaf': [1],\n",
    "    'model__criterion': ['gini']\n",
    "}]\n",
    "\n",
    "grid_search_dt = GridSearchCV(pipe, param_grid_dt, scoring = score, cv=30, verbose= 2, refit='accuracy', n_jobs=-1)\n",
    "grid_search_dt.fit(X_train,y_train)"
   ]
  },
  {
   "cell_type": "code",
   "execution_count": 21,
   "metadata": {},
   "outputs": [
    {
     "name": "stdout",
     "output_type": "stream",
     "text": [
      "Best Parameters: {'model': DecisionTreeClassifier(), 'model__criterion': 'gini', 'model__max_depth': None, 'model__min_samples_leaf': 1, 'model__min_samples_split': 2}\n",
      "Best Score: 0.9864761458577341\n"
     ]
    },
    {
     "data": {
      "text/html": [
       "<div>\n",
       "<style scoped>\n",
       "    .dataframe tbody tr th:only-of-type {\n",
       "        vertical-align: middle;\n",
       "    }\n",
       "\n",
       "    .dataframe tbody tr th {\n",
       "        vertical-align: top;\n",
       "    }\n",
       "\n",
       "    .dataframe thead th {\n",
       "        text-align: right;\n",
       "    }\n",
       "</style>\n",
       "<table border=\"1\" class=\"dataframe\">\n",
       "  <thead>\n",
       "    <tr style=\"text-align: right;\">\n",
       "      <th></th>\n",
       "      <th>mean_fit_time</th>\n",
       "      <th>std_fit_time</th>\n",
       "      <th>mean_score_time</th>\n",
       "      <th>std_score_time</th>\n",
       "      <th>param_model</th>\n",
       "      <th>param_model__criterion</th>\n",
       "      <th>param_model__max_depth</th>\n",
       "      <th>param_model__min_samples_leaf</th>\n",
       "      <th>param_model__min_samples_split</th>\n",
       "      <th>params</th>\n",
       "      <th>...</th>\n",
       "      <th>split23_test_f1</th>\n",
       "      <th>split24_test_f1</th>\n",
       "      <th>split25_test_f1</th>\n",
       "      <th>split26_test_f1</th>\n",
       "      <th>split27_test_f1</th>\n",
       "      <th>split28_test_f1</th>\n",
       "      <th>split29_test_f1</th>\n",
       "      <th>mean_test_f1</th>\n",
       "      <th>std_test_f1</th>\n",
       "      <th>rank_test_f1</th>\n",
       "    </tr>\n",
       "  </thead>\n",
       "  <tbody>\n",
       "    <tr>\n",
       "      <th>0</th>\n",
       "      <td>1.201911</td>\n",
       "      <td>0.340921</td>\n",
       "      <td>0.028137</td>\n",
       "      <td>0.013771</td>\n",
       "      <td>DecisionTreeClassifier()</td>\n",
       "      <td>gini</td>\n",
       "      <td>None</td>\n",
       "      <td>1</td>\n",
       "      <td>2</td>\n",
       "      <td>{'model': DecisionTreeClassifier(), 'model__cr...</td>\n",
       "      <td>...</td>\n",
       "      <td>1.0</td>\n",
       "      <td>1.0</td>\n",
       "      <td>1.0</td>\n",
       "      <td>1.0</td>\n",
       "      <td>1.0</td>\n",
       "      <td>1.0</td>\n",
       "      <td>1.0</td>\n",
       "      <td>0.931914</td>\n",
       "      <td>0.063867</td>\n",
       "      <td>1</td>\n",
       "    </tr>\n",
       "  </tbody>\n",
       "</table>\n",
       "<p>1 rows × 142 columns</p>\n",
       "</div>"
      ],
      "text/plain": [
       "   mean_fit_time  std_fit_time  mean_score_time  std_score_time  \\\n",
       "0       1.201911      0.340921         0.028137        0.013771   \n",
       "\n",
       "                param_model param_model__criterion param_model__max_depth  \\\n",
       "0  DecisionTreeClassifier()                   gini                   None   \n",
       "\n",
       "  param_model__min_samples_leaf param_model__min_samples_split  \\\n",
       "0                             1                              2   \n",
       "\n",
       "                                              params  ...  split23_test_f1  \\\n",
       "0  {'model': DecisionTreeClassifier(), 'model__cr...  ...              1.0   \n",
       "\n",
       "   split24_test_f1  split25_test_f1  split26_test_f1  split27_test_f1  \\\n",
       "0              1.0              1.0              1.0              1.0   \n",
       "\n",
       "   split28_test_f1  split29_test_f1  mean_test_f1  std_test_f1  rank_test_f1  \n",
       "0              1.0              1.0      0.931914     0.063867             1  \n",
       "\n",
       "[1 rows x 142 columns]"
      ]
     },
     "execution_count": 21,
     "metadata": {},
     "output_type": "execute_result"
    }
   ],
   "source": [
    "print(\"Best Parameters:\", grid_search_dt.best_params_)\n",
    "\n",
    "# Print the best score found during grid search\n",
    "print(\"Best Score:\", grid_search_dt.best_score_)\n",
    "\n",
    "pd.DataFrame(grid_search_dt.cv_results_).head()"
   ]
  },
  {
   "attachments": {},
   "cell_type": "markdown",
   "metadata": {},
   "source": [
    "### GAUSSIAN NAIVE BAYES"
   ]
  },
  {
   "cell_type": "code",
   "execution_count": null,
   "metadata": {},
   "outputs": [],
   "source": [
    "param_grid_nb = [{\n",
    "    'model': [GaussianNB()]\n",
    "}]\n",
    "\n",
    "grid_search_nb = GridSearchCV(pipe, param_grid_nb, scoring = score, cv=5, verbose= 2, refit='accuracy', n_jobs=-1)\n",
    "grid_search_nb.fit(X_train,y_train)"
   ]
  },
  {
   "cell_type": "code",
   "execution_count": 14,
   "metadata": {},
   "outputs": [
    {
     "name": "stdout",
     "output_type": "stream",
     "text": [
      "Best Parameters: {'model': GaussianNB()}\n",
      "Best Score: 0.8230673420027946\n"
     ]
    },
    {
     "data": {
      "text/html": [
       "<div>\n",
       "<style scoped>\n",
       "    .dataframe tbody tr th:only-of-type {\n",
       "        vertical-align: middle;\n",
       "    }\n",
       "\n",
       "    .dataframe tbody tr th {\n",
       "        vertical-align: top;\n",
       "    }\n",
       "\n",
       "    .dataframe thead th {\n",
       "        text-align: right;\n",
       "    }\n",
       "</style>\n",
       "<table border=\"1\" class=\"dataframe\">\n",
       "  <thead>\n",
       "    <tr style=\"text-align: right;\">\n",
       "      <th></th>\n",
       "      <th>mean_fit_time</th>\n",
       "      <th>std_fit_time</th>\n",
       "      <th>mean_score_time</th>\n",
       "      <th>std_score_time</th>\n",
       "      <th>param_model</th>\n",
       "      <th>params</th>\n",
       "      <th>split0_test_accuracy</th>\n",
       "      <th>split1_test_accuracy</th>\n",
       "      <th>split2_test_accuracy</th>\n",
       "      <th>split3_test_accuracy</th>\n",
       "      <th>...</th>\n",
       "      <th>std_test_recall</th>\n",
       "      <th>rank_test_recall</th>\n",
       "      <th>split0_test_f1</th>\n",
       "      <th>split1_test_f1</th>\n",
       "      <th>split2_test_f1</th>\n",
       "      <th>split3_test_f1</th>\n",
       "      <th>split4_test_f1</th>\n",
       "      <th>mean_test_f1</th>\n",
       "      <th>std_test_f1</th>\n",
       "      <th>rank_test_f1</th>\n",
       "    </tr>\n",
       "  </thead>\n",
       "  <tbody>\n",
       "    <tr>\n",
       "      <th>0</th>\n",
       "      <td>0.118259</td>\n",
       "      <td>0.003771</td>\n",
       "      <td>0.049943</td>\n",
       "      <td>0.002182</td>\n",
       "      <td>GaussianNB()</td>\n",
       "      <td>{'model': GaussianNB()}</td>\n",
       "      <td>0.880846</td>\n",
       "      <td>0.88049</td>\n",
       "      <td>0.862492</td>\n",
       "      <td>0.743763</td>\n",
       "      <td>...</td>\n",
       "      <td>0.023996</td>\n",
       "      <td>1</td>\n",
       "      <td>0.535323</td>\n",
       "      <td>0.533313</td>\n",
       "      <td>0.79088</td>\n",
       "      <td>0.853055</td>\n",
       "      <td>0.855668</td>\n",
       "      <td>0.713648</td>\n",
       "      <td>0.148249</td>\n",
       "      <td>1</td>\n",
       "    </tr>\n",
       "  </tbody>\n",
       "</table>\n",
       "<p>1 rows × 38 columns</p>\n",
       "</div>"
      ],
      "text/plain": [
       "   mean_fit_time  std_fit_time  mean_score_time  std_score_time   param_model  \\\n",
       "0       0.118259      0.003771         0.049943        0.002182  GaussianNB()   \n",
       "\n",
       "                    params  split0_test_accuracy  split1_test_accuracy  \\\n",
       "0  {'model': GaussianNB()}              0.880846               0.88049   \n",
       "\n",
       "   split2_test_accuracy  split3_test_accuracy  ...  std_test_recall  \\\n",
       "0              0.862492              0.743763  ...         0.023996   \n",
       "\n",
       "   rank_test_recall  split0_test_f1  split1_test_f1  split2_test_f1  \\\n",
       "0                 1        0.535323        0.533313         0.79088   \n",
       "\n",
       "   split3_test_f1  split4_test_f1  mean_test_f1  std_test_f1  rank_test_f1  \n",
       "0        0.853055        0.855668      0.713648     0.148249             1  \n",
       "\n",
       "[1 rows x 38 columns]"
      ]
     },
     "execution_count": 14,
     "metadata": {},
     "output_type": "execute_result"
    }
   ],
   "source": [
    "print(\"Best Parameters:\", grid_search_nb.best_params_)\n",
    "\n",
    "# Print the best score found during grid search\n",
    "print(\"Best Score:\", grid_search_nb.best_score_)\n",
    "\n",
    "pd.DataFrame(grid_search_nb.cv_results_).head()"
   ]
  },
  {
   "attachments": {},
   "cell_type": "markdown",
   "metadata": {},
   "source": [
    "### SUPPORT VECTOR CLASSIFIER"
   ]
  },
  {
   "cell_type": "code",
   "execution_count": null,
   "metadata": {},
   "outputs": [],
   "source": [
    "param_grid_svm = [{\n",
    "    'model': [SVC()]\n",
    "}]\n",
    "\n",
    "grid_search_svm = GridSearchCV(pipe, param_grid_svm, scoring = score, cv=5, verbose= 2, refit='accuracy')\n",
    "grid_search_svm.fit(X_train,y_train)"
   ]
  },
  {
   "cell_type": "code",
   "execution_count": 43,
   "metadata": {},
   "outputs": [
    {
     "name": "stdout",
     "output_type": "stream",
     "text": [
      "Best Parameters: {'model': SVC()}\n",
      "Best Score: 0.8565114937902836\n"
     ]
    },
    {
     "data": {
      "text/html": [
       "<div>\n",
       "<style scoped>\n",
       "    .dataframe tbody tr th:only-of-type {\n",
       "        vertical-align: middle;\n",
       "    }\n",
       "\n",
       "    .dataframe tbody tr th {\n",
       "        vertical-align: top;\n",
       "    }\n",
       "\n",
       "    .dataframe thead th {\n",
       "        text-align: right;\n",
       "    }\n",
       "</style>\n",
       "<table border=\"1\" class=\"dataframe\">\n",
       "  <thead>\n",
       "    <tr style=\"text-align: right;\">\n",
       "      <th></th>\n",
       "      <th>mean_fit_time</th>\n",
       "      <th>std_fit_time</th>\n",
       "      <th>mean_score_time</th>\n",
       "      <th>std_score_time</th>\n",
       "      <th>param_model</th>\n",
       "      <th>params</th>\n",
       "      <th>split0_test_accuracy</th>\n",
       "      <th>split1_test_accuracy</th>\n",
       "      <th>split2_test_accuracy</th>\n",
       "      <th>split3_test_accuracy</th>\n",
       "      <th>...</th>\n",
       "      <th>std_test_recall</th>\n",
       "      <th>rank_test_recall</th>\n",
       "      <th>split0_test_f1</th>\n",
       "      <th>split1_test_f1</th>\n",
       "      <th>split2_test_f1</th>\n",
       "      <th>split3_test_f1</th>\n",
       "      <th>split4_test_f1</th>\n",
       "      <th>mean_test_f1</th>\n",
       "      <th>std_test_f1</th>\n",
       "      <th>rank_test_f1</th>\n",
       "    </tr>\n",
       "  </thead>\n",
       "  <tbody>\n",
       "    <tr>\n",
       "      <th>0</th>\n",
       "      <td>179.287804</td>\n",
       "      <td>16.539995</td>\n",
       "      <td>63.504735</td>\n",
       "      <td>1.328299</td>\n",
       "      <td>SVC()</td>\n",
       "      <td>{'model': SVC()}</td>\n",
       "      <td>0.855548</td>\n",
       "      <td>0.847343</td>\n",
       "      <td>0.890173</td>\n",
       "      <td>0.843946</td>\n",
       "      <td>...</td>\n",
       "      <td>0.050102</td>\n",
       "      <td>1</td>\n",
       "      <td>0.532592</td>\n",
       "      <td>0.516448</td>\n",
       "      <td>0.848118</td>\n",
       "      <td>0.91537</td>\n",
       "      <td>0.916311</td>\n",
       "      <td>0.745768</td>\n",
       "      <td>0.182404</td>\n",
       "      <td>1</td>\n",
       "    </tr>\n",
       "  </tbody>\n",
       "</table>\n",
       "<p>1 rows × 38 columns</p>\n",
       "</div>"
      ],
      "text/plain": [
       "   mean_fit_time  std_fit_time  mean_score_time  std_score_time param_model  \\\n",
       "0     179.287804     16.539995        63.504735        1.328299       SVC()   \n",
       "\n",
       "             params  split0_test_accuracy  split1_test_accuracy  \\\n",
       "0  {'model': SVC()}              0.855548              0.847343   \n",
       "\n",
       "   split2_test_accuracy  split3_test_accuracy  ...  std_test_recall  \\\n",
       "0              0.890173              0.843946  ...         0.050102   \n",
       "\n",
       "   rank_test_recall  split0_test_f1  split1_test_f1  split2_test_f1  \\\n",
       "0                 1        0.532592        0.516448        0.848118   \n",
       "\n",
       "   split3_test_f1  split4_test_f1  mean_test_f1  std_test_f1  rank_test_f1  \n",
       "0         0.91537        0.916311      0.745768     0.182404             1  \n",
       "\n",
       "[1 rows x 38 columns]"
      ]
     },
     "execution_count": 43,
     "metadata": {},
     "output_type": "execute_result"
    }
   ],
   "source": [
    "print(\"Best Parameters:\", grid_search_svm.best_params_)\n",
    "\n",
    "# Print the best score found during grid search\n",
    "print(\"Best Score:\", grid_search_svm.best_score_)\n",
    "\n",
    "pd.DataFrame(grid_search_svm.cv_results_).head()"
   ]
  },
  {
   "attachments": {},
   "cell_type": "markdown",
   "metadata": {},
   "source": [
    "## Predicting on the testing data using the best model"
   ]
  },
  {
   "cell_type": "code",
   "execution_count": 45,
   "metadata": {},
   "outputs": [],
   "source": [
    "grid_search = {\n",
    "    \"KNN CLASSIFIER\": grid_search_knn,\n",
    "    \"Logistic Regression\": grid_search_lr,\n",
    "    \"Naive Bayes\": grid_search_nb, \n",
    "    \"Random Forest Classifier\": grid_search_rf,\n",
    "    \"Decision Trees\": grid_search_dt,\n",
    "    \"SVM\": grid_search_svm\n",
    "}"
   ]
  },
  {
   "cell_type": "code",
   "execution_count": 46,
   "metadata": {},
   "outputs": [
    {
     "name": "stdout",
     "output_type": "stream",
     "text": [
      "ACCURACY OF DIFFERENT MODELS\n",
      "------------------------------\n",
      "KNN CLASSIFIER : 89.82 %\n",
      "Logistic Regression : 88.5 %\n",
      "Naive Bayes : 88.71 %\n",
      "Random Forest Classifier : 96.63000000000001 %\n",
      "Decision Trees : 95.47333333333333 %\n",
      "SVM : 88.8 %\n",
      "------------------------------\n"
     ]
    }
   ],
   "source": [
    "print(\"ACCURACY OF DIFFERENT MODELS\")\n",
    "print(('-')*30)\n",
    "for grid_name, grid_type in grid_search.items():\n",
    "    y_predict = grid_type.predict(X_test)\n",
    "    print(f\"{grid_name} : {accuracy_score(y_test, y_predict)*100} %\")\n",
    "print(('-')*30)"
   ]
  },
  {
   "attachments": {},
   "cell_type": "markdown",
   "metadata": {},
   "source": [
    "### We have successfully trained a model using Random Forest Classifier which has an accuracy of 96.63 % for predicting diabetes."
   ]
  }
 ],
 "metadata": {
  "kernelspec": {
   "display_name": "data_streamlit",
   "language": "python",
   "name": "python3"
  },
  "language_info": {
   "codemirror_mode": {
    "name": "ipython",
    "version": 3
   },
   "file_extension": ".py",
   "mimetype": "text/x-python",
   "name": "python",
   "nbconvert_exporter": "python",
   "pygments_lexer": "ipython3",
   "version": "3.10.11"
  },
  "orig_nbformat": 4
 },
 "nbformat": 4,
 "nbformat_minor": 2
}
